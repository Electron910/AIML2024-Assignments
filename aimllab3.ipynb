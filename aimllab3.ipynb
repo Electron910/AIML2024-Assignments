{
 "cells": [
  {
   "cell_type": "code",
   "execution_count": 2,
   "metadata": {},
   "outputs": [
    {
     "name": "stdout",
     "output_type": "stream",
     "text": [
      "BFS starting from node 0 :\n",
      "0 1 3 2 4 5 "
     ]
    }
   ],
   "source": [
    "\n",
    "from collections import deque\n",
    "\n",
    "def bfs(graph, start):\n",
    "    visited = set()\n",
    "    queue = deque([start])\n",
    "\n",
    "    while queue:\n",
    "        vertex = queue.popleft()\n",
    "\n",
    "        if vertex not in visited:\n",
    "            print(vertex, end=' ')\n",
    "            visited.add(vertex)\n",
    "            queue.extend(neighbor for neighbor in graph[vertex] if neighbor not in visited)\n",
    "\n",
    "graph = {1:[0,2,3],2:[1,4,5],3:[0,1,4],4:[2,3,5],5:[2,4],0:[1,3]}\n",
    "\n",
    "start_node = 0\n",
    "\n",
    "print(\"BFS starting from node\", start_node, \":\")\n",
    "bfs(graph, start_node)\n"
   ]
  },
  {
   "cell_type": "code",
   "execution_count": 1,
   "metadata": {},
   "outputs": [
    {
     "name": "stdout",
     "output_type": "stream",
     "text": [
      "DFS traversal starting from vertex A :\n",
      "A S G H E C F D B "
     ]
    }
   ],
   "source": [
    "def dfs2(graph, start):\n",
    "    visited = set()\n",
    "    stack = [start]\n",
    "    while stack:\n",
    "        vertex = stack.pop()\n",
    "        if vertex not in visited:\n",
    "            print(vertex, end=' ')\n",
    "            visited.add(vertex)\n",
    "            stack.extend(neighbor for neighbor in graph[vertex] if neighbor not in visited)\n",
    "\n",
    "graph={\n",
    "    'A':['B', 'S'],\n",
    "    'B':['A'],\n",
    "    'C':['D', 'E', 'F', 'S'],\n",
    "    'D':['C'],\n",
    "    'E':['C', 'H'],\n",
    "    'F':['C', 'G'],\n",
    "    'G':['F', 'H', 'S'],\n",
    "    'H':['E', 'G'],\n",
    "    'S':['A', 'C', 'G']\n",
    "}\n",
    "\n",
    "start_vertex='A'\n",
    "print(\"DFS traversal starting from vertex\", start_vertex, \":\")\n",
    "dfs2(graph, start_vertex)"
   ]
  },
  {
   "cell_type": "code",
   "execution_count": 12,
   "metadata": {},
   "outputs": [
    {
     "name": "stdout",
     "output_type": "stream",
     "text": [
      "Solution found:\n",
      "[[2 8 3]\n",
      " [1 6 4]\n",
      " [7 0 5]]\n",
      "[[2 8 3]\n",
      " [1 0 4]\n",
      " [7 6 5]]\n",
      "[[2 0 3]\n",
      " [1 8 4]\n",
      " [7 6 5]]\n",
      "[[0 2 3]\n",
      " [1 8 4]\n",
      " [7 6 5]]\n",
      "[[1 2 3]\n",
      " [0 8 4]\n",
      " [7 6 5]]\n",
      "[[1 2 3]\n",
      " [8 0 4]\n",
      " [7 6 5]]\n"
     ]
    }
   ],
   "source": [
    "import numpy as np\n",
    "from queue import PriorityQueue\n",
    "\n",
    "class Node:\n",
    "    def __init__(self, state, parent=None, g_score=0, h_score=0):\n",
    "        self.state = state\n",
    "        self.parent = parent\n",
    "        self.g_score = g_score\n",
    "        self.h_score = h_score\n",
    "        self.f_score = g_score + h_score\n",
    "\n",
    "    def __lt__(self, other):\n",
    "        return self.f_score < other.f_score\n",
    "\n",
    "def heuristic(state, goal_state):\n",
    "    return np.sum(state != goal_state)\n",
    "\n",
    "def get_successors(state):\n",
    "    successors = []\n",
    "    zero_position = np.argwhere(state == 0)[0]  # Find the position of the zero in the state\n",
    "\n",
    "    # Generate successor states by swapping the zero with its neighboring elements\n",
    "    for move in [(0, 1), (0, -1), (1, 0), (-1, 0)]:\n",
    "        new_position = zero_position + move\n",
    "        if 0 <= new_position[0] < state.shape[0] and 0 <= new_position[1] < state.shape[1]:\n",
    "            successor_state = state.copy()\n",
    "            successor_state[zero_position[0], zero_position[1]] = state[new_position[0], new_position[1]]\n",
    "            successor_state[new_position[0], new_position[1]] = 0\n",
    "            successors.append(successor_state)\n",
    "\n",
    "    return successors\n",
    "\n",
    "def astar(start_state, goal_state, heuristic):\n",
    "    priority_queue = PriorityQueue()\n",
    "    priority_queue.put((0, Node(start_state)))\n",
    "\n",
    "    while not priority_queue.empty():\n",
    "        _, current_node = priority_queue.get()\n",
    "\n",
    "        if np.array_equal(current_node.state, goal_state):\n",
    "            # Goal state reached, reconstruct path\n",
    "            path = []\n",
    "            while current_node:\n",
    "                path.append(current_node.state)\n",
    "                current_node = current_node.parent\n",
    "            return path[::-1]\n",
    "\n",
    "        for successor_state in get_successors(current_node.state):\n",
    "            new_cost = current_node.g_score + 1\n",
    "            new_node = Node(successor_state, parent=current_node, g_score=new_cost, h_score=heuristic(successor_state, goal_state))\n",
    "            priority_queue.put((new_node.f_score, new_node))\n",
    "\n",
    "    return None\n",
    "\n",
    "initial_state = np.array([[2, 8, 3],\n",
    "                          [1, 6, 4],\n",
    "                          [7, 0, 5]])\n",
    "\n",
    "goal_state = np.array([[1, 2, 3],\n",
    "                       [8, 0, 4],\n",
    "                       [7, 6, 5]])\n",
    "\n",
    "result_path = astar(initial_state, goal_state, heuristic)\n",
    "\n",
    "if result_path is not None:\n",
    "    print(\"Solution found:\")\n",
    "    for state in result_path:\n",
    "        print(state)\n",
    "else:\n",
    "    print(\"Goal state is not reachable.\")\n"
   ]
  },
  {
   "cell_type": "code",
   "execution_count": null,
   "metadata": {},
   "outputs": [],
   "source": []
  }
 ],
 "metadata": {
  "kernelspec": {
   "display_name": "Python 3",
   "language": "python",
   "name": "python3"
  },
  "language_info": {
   "codemirror_mode": {
    "name": "ipython",
    "version": 3
   },
   "file_extension": ".py",
   "mimetype": "text/x-python",
   "name": "python",
   "nbconvert_exporter": "python",
   "pygments_lexer": "ipython3",
   "version": "3.10.13"
  }
 },
 "nbformat": 4,
 "nbformat_minor": 2
}
