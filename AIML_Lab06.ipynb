{
  "nbformat": 4,
  "nbformat_minor": 0,
  "metadata": {
    "colab": {
      "provenance": []
    },
    "kernelspec": {
      "name": "python3",
      "display_name": "Python 3"
    },
    "language_info": {
      "name": "python"
    }
  },
  "cells": [
    {
      "cell_type": "code",
      "execution_count": 2,
      "metadata": {
        "id": "a8ICPXRatD53",
        "colab": {
          "base_uri": "https://localhost:8080/"
        },
        "outputId": "57d214e4-08ea-4523-961a-9e61a5d5975f"
      },
      "outputs": [
        {
          "output_type": "stream",
          "name": "stdout",
          "text": [
            "   battery_power  blue  clock_speed  dual_sim  fc  four_g  int_memory  m_dep  \\\n",
            "0            842     0          2.2         0   1       0           7    0.6   \n",
            "1           1021     1          0.5         1   0       1          53    0.7   \n",
            "2            563     1          0.5         1   2       1          41    0.9   \n",
            "3            615     1          2.5         0   0       0          10    0.8   \n",
            "4           1821     1          1.2         0  13       1          44    0.6   \n",
            "\n",
            "   mobile_wt  n_cores  ...  px_height  px_width   ram  sc_h  sc_w  talk_time  \\\n",
            "0        188        2  ...         20       756  2549     9     7         19   \n",
            "1        136        3  ...        905      1988  2631    17     3          7   \n",
            "2        145        5  ...       1263      1716  2603    11     2          9   \n",
            "3        131        6  ...       1216      1786  2769    16     8         11   \n",
            "4        141        2  ...       1208      1212  1411     8     2         15   \n",
            "\n",
            "   three_g  touch_screen  wifi  price_range  \n",
            "0        0             0     1            1  \n",
            "1        1             1     0            2  \n",
            "2        1             1     0            2  \n",
            "3        1             0     0            2  \n",
            "4        1             1     0            1  \n",
            "\n",
            "[5 rows x 21 columns]\n",
            "   battery_power  blue  clock_speed  dual_sim        fc  four_g  int_memory  \\\n",
            "0       0.227789   0.0         0.68       0.0  0.052632     0.0    0.080645   \n",
            "1       0.347361   1.0         0.00       1.0  0.000000     1.0    0.822581   \n",
            "2       0.041416   1.0         0.00       1.0  0.105263     1.0    0.629032   \n",
            "3       0.076152   1.0         0.80       0.0  0.000000     0.0    0.129032   \n",
            "4       0.881764   1.0         0.28       0.0  0.684211     1.0    0.677419   \n",
            "\n",
            "      m_dep  mobile_wt   n_cores    pc  px_height  px_width       ram  \\\n",
            "0  0.555556   0.900000  0.142857  0.10   0.010204  0.170895  0.612774   \n",
            "1  0.666667   0.466667  0.285714  0.30   0.461735  0.993324  0.634687   \n",
            "2  0.888889   0.541667  0.571429  0.30   0.644388  0.811749  0.627205   \n",
            "3  0.777778   0.425000  0.714286  0.45   0.620408  0.858478  0.671566   \n",
            "4  0.555556   0.508333  0.142857  0.70   0.616327  0.475300  0.308658   \n",
            "\n",
            "       sc_h      sc_w  talk_time  three_g  touch_screen  wifi  \n",
            "0  0.285714  0.388889   0.944444      0.0           0.0   1.0  \n",
            "1  0.857143  0.166667   0.277778      1.0           1.0   0.0  \n",
            "2  0.428571  0.111111   0.388889      1.0           1.0   0.0  \n",
            "3  0.785714  0.444444   0.500000      1.0           0.0   0.0  \n",
            "4  0.214286  0.111111   0.722222      1.0           1.0   0.0  \n",
            "Train set shape: (1600, 20) (1600,)\n",
            "Test set shape: (400, 20) (400,)\n"
          ]
        }
      ],
      "source": [
        "import pandas as pd\n",
        "from sklearn.preprocessing import MinMaxScaler\n",
        "from sklearn.model_selection import train_test_split\n",
        "\n",
        "# Read the data using pandas\n",
        "data = pd.read_csv('/content/train.csv')\n",
        "\n",
        "# Display the first few rows of the data to understand its structure\n",
        "print(data.head())\n",
        "\n",
        "# Identify features and target variable\n",
        "features = data.drop('price_range', axis=1)  # Assuming 'price_range' is the target variable\n",
        "target = data['price_range']\n",
        "\n",
        "# Initialize the MinMaxScaler\n",
        "scaler = MinMaxScaler()\n",
        "\n",
        "# Fit and transform the features using Min-Max scaling\n",
        "normalized_features = scaler.fit_transform(features)\n",
        "\n",
        "# Convert the normalized features back to a pandas DataFrame\n",
        "normalized_features_df = pd.DataFrame(normalized_features, columns=features.columns)\n",
        "\n",
        "# Display the normalized features\n",
        "print(normalized_features_df.head())\n",
        "\n",
        "# Split the data into train and test sets (80% train, 20% test)\n",
        "X_train, X_test, y_train, y_test = train_test_split(normalized_features_df, target, test_size=0.2, random_state=42)\n",
        "\n",
        "# Display the shapes of train and test sets\n",
        "print(\"Train set shape:\", X_train.shape, y_train.shape)\n",
        "print(\"Test set shape:\", X_test.shape, y_test.shape)\n"
      ]
    },
    {
      "cell_type": "code",
      "source": [
        "import pandas as pd\n",
        "from sklearn.model_selection import train_test_split\n",
        "from sklearn.preprocessing import StandardScaler\n",
        "from sklearn.ensemble import RandomForestClassifier\n",
        "from sklearn.metrics import accuracy_score, precision_score, recall_score, confusion_matrix\n",
        "\n",
        "# Step 1: Read and preprocess the data\n",
        "data = pd.read_csv('/content/train.csv')\n",
        "\n",
        "# Separate features and target variable\n",
        "X = data.drop('price_range', axis=1)\n",
        "y = data['price_range']\n",
        "\n",
        "# Split the data into train and test sets\n",
        "X_train, X_test, y_train, y_test = train_test_split(X, y, test_size=0.2, random_state=42)\n",
        "\n",
        "# Standardize the features\n",
        "scaler = StandardScaler()\n",
        "X_train_scaled = scaler.fit_transform(X_train)\n",
        "X_test_scaled = scaler.transform(X_test)\n",
        "\n",
        "# Step 2: Train a machine learning model\n",
        "model = RandomForestClassifier(n_estimators=100, random_state=42)\n",
        "model.fit(X_train_scaled, y_train)\n",
        "\n",
        "# Step 3: Evaluate the model\n",
        "y_pred = model.predict(X_test_scaled)\n",
        "\n",
        "# Calculate evaluation metrics\n",
        "accuracy = accuracy_score(y_test, y_pred)\n",
        "precision = precision_score(y_test, y_pred, average='weighted')\n",
        "recall = recall_score(y_test, y_pred, average='weighted')\n",
        "conf_matrix = confusion_matrix(y_test, y_pred)\n",
        "\n",
        "# Print the evaluation metrics\n",
        "print(\"Accuracy:\", accuracy)\n",
        "print(\"Precision:\", precision)\n",
        "print(\"Recall:\", recall)\n",
        "print(\"Confusion Matrix:\\n\", conf_matrix)\n"
      ],
      "metadata": {
        "colab": {
          "base_uri": "https://localhost:8080/"
        },
        "id": "Y-IJdx0puA19",
        "outputId": "afa08499-7d40-463c-9bb8-a83ce7ad0acd"
      },
      "execution_count": 4,
      "outputs": [
        {
          "output_type": "stream",
          "name": "stdout",
          "text": [
            "Accuracy: 0.8925\n",
            "Precision: 0.8961376040265876\n",
            "Recall: 0.8925\n",
            "Confusion Matrix:\n",
            " [[101   4   0   0]\n",
            " [  5  79   7   0]\n",
            " [  0   6  80   6]\n",
            " [  0   0  15  97]]\n"
          ]
        }
      ]
    },
    {
      "cell_type": "code",
      "source": [],
      "metadata": {
        "id": "zB-BKWlYuD4L"
      },
      "execution_count": null,
      "outputs": []
    }
  ]
}